{
 "cells": [
  {
   "cell_type": "code",
   "execution_count": 1,
   "id": "4efab641",
   "metadata": {},
   "outputs": [
    {
     "name": "stdout",
     "output_type": "stream",
     "text": [
      "Added '/home/brimmann/works/xRAG' to sys.path\n"
     ]
    }
   ],
   "source": [
    "import sys\n",
    "import os\n",
    "\n",
    "# Assumes the notebook is in src/distill.\n",
    "# Go up two levels to the project root.\n",
    "project_root = os.path.abspath(os.path.join(os.getcwd(), '..', '..'))\n",
    "\n",
    "if project_root not in sys.path:\n",
    "    sys.path.insert(0, project_root)\n",
    "\n",
    "print(f\"Added '{project_root}' to sys.path\")\n",
    "\n",
    "# Now you can import from src.model\n",
    "# For example:\n",
    "# from src.model.your_file import your_function"
   ]
  },
  {
   "cell_type": "code",
   "execution_count": 2,
   "id": "918a763a",
   "metadata": {},
   "outputs": [],
   "source": [
    "import argparse"
   ]
  },
  {
   "cell_type": "code",
   "execution_count": 3,
   "id": "116fb57f",
   "metadata": {},
   "outputs": [],
   "source": [
    "def create_prompt_with_mistral_chat_format(messages,tokenizer,*args,**kwargs):\n",
    "    # return tokenizer.apply_chat_template(messages,tokenize=False,add_special_tokens=False)\n",
    "    formatted_text = \"\"\n",
    "    for message in messages:\n",
    "        if message['role'] == 'user':\n",
    "            formatted_text += \"[INST] \" + message['content'] + \" [/INST]\"\n",
    "        elif message['role'] == 'assistant':\n",
    "            formatted_text += message['content'] + tokenizer.eos_token\n",
    "        else:\n",
    "            raise ValueError(\n",
    "                \"Mistral chat template only supports 'user' and 'assistant' roles. Invalid role: {}.\".format(message[\"role\"])\n",
    "                )\n",
    "    # formatted_text += \" The answer is:\"\n",
    "    return formatted_text"
   ]
  },
  {
   "cell_type": "code",
   "execution_count": 63,
   "id": "5b5a8523",
   "metadata": {},
   "outputs": [],
   "source": [
    "def parse_args():\n",
    "    args = argparse.Namespace(\n",
    "        # --- Set your desired default values here ---\n",
    "        retrieval_prefix='colbertv2',\n",
    "        tf_idf_topk=0,\n",
    "        base_model=None,  # e.g., 'path/to/base_model'\n",
    "        use_rag=True,  # This will be set to True if retriever_name_or_path is provided\n",
    "        enable_progress_bar=True,\n",
    "        data='triviaqa',  # e.g., 'nq_open', 'hotpotqa', 'triviaqa', 'webqa', 'truthfulqa', 'factkg'\n",
    "        model_name_or_path='Hannibal046/xrag-7b',  # e.g., 'path/to/your/model'\n",
    "        eval_metrics=None,  # This is set based on the 'data' argument below\n",
    "        n_shot=0,\n",
    "        retriever_name_or_path='Salesforce/SFR-Embedding-Mistral',  # e.g., 'colbertv2/colbertv2.0'\n",
    "        retrieval_topk=[1],\n",
    "        retrieval_embed_length=0,\n",
    "        max_test_samples=2,  # e.g., 100 for debugging\n",
    "        save_dir='./outputs',  # e.g., 'path/to/save/results'\n",
    "        eval_batch_size=4,\n",
    "        chat_format='mistral',\n",
    "    )\n",
    "\n",
    "    ## post-process\n",
    "    if args.data in ['nq_open','hotpotqa','triviaqa','webqa']:\n",
    "        args.task_type = 'open_qa'\n",
    "        args.eval_metrics = 'substring_match'\n",
    "    elif args.data in ['truthfulqa']:\n",
    "        args.task_type = 'open_qa'\n",
    "        args.eval_metrics = 'truthfulqa_f1_rl'\n",
    "    elif args.data in ['factkg']:\n",
    "        args.task_type = 'fact_checking'\n",
    "        args.eval_metrics = 'fact_checking_acc'\n",
    "    \n",
    "    args.retrieval_topk = [x-1 for x in args.retrieval_topk] ## rank starts from 1\n",
    "    \n",
    "    if args.chat_format is not None:\n",
    "        args.chat_format = eval(f\"create_prompt_with_{args.chat_format}_chat_format\")    \n",
    "    \n",
    "    if args.retriever_name_or_path is not None:\n",
    "        args.use_rag = True\n",
    "\n",
    "    return args"
   ]
  },
  {
   "cell_type": "code",
   "execution_count": 64,
   "id": "0e50610c",
   "metadata": {},
   "outputs": [],
   "source": [
    "args = parse_args()"
   ]
  },
  {
   "cell_type": "code",
   "execution_count": 53,
   "id": "a760005f",
   "metadata": {},
   "outputs": [
    {
     "data": {
      "text/plain": [
       "[0]"
      ]
     },
     "execution_count": 53,
     "metadata": {},
     "output_type": "execute_result"
    }
   ],
   "source": [
    "args.retrieval_topk"
   ]
  },
  {
   "cell_type": "code",
   "execution_count": 54,
   "id": "1fc5e1b4",
   "metadata": {},
   "outputs": [
    {
     "data": {
      "text/plain": [
       "'Salesforce/SFR-Embedding-Mistral'"
      ]
     },
     "execution_count": 54,
     "metadata": {},
     "output_type": "execute_result"
    }
   ],
   "source": [
    "args.retriever_name_or_path"
   ]
  },
  {
   "cell_type": "code",
   "execution_count": 34,
   "id": "6a08042a",
   "metadata": {},
   "outputs": [],
   "source": [
    "from transformers import (\n",
    "    AutoTokenizer\n",
    ")"
   ]
  },
  {
   "cell_type": "code",
   "execution_count": 94,
   "id": "84bda8cd",
   "metadata": {},
   "outputs": [
    {
     "name": "stderr",
     "output_type": "stream",
     "text": [
      "/home/brimmann/works/xRAG/.venv/lib/python3.9/site-packages/huggingface_hub/file_download.py:945: FutureWarning: `resume_download` is deprecated and will be removed in version 1.0.0. Downloads always resume when possible. If you want to force a new download, use `force_download=True`.\n",
      "  warnings.warn(\n",
      "Special tokens have been added in the vocabulary, make sure the associated word embeddings are fine-tuned or trained.\n"
     ]
    }
   ],
   "source": [
    "tokenizer = AutoTokenizer.from_pretrained(\n",
    "    args.model_name_or_path,\n",
    "    padding_side = 'left',\n",
    "    add_eos_token=False, ## import to include this!\n",
    "    use_fast=False,\n",
    ")"
   ]
  },
  {
   "cell_type": "code",
   "execution_count": 95,
   "id": "07460a4a",
   "metadata": {},
   "outputs": [],
   "source": [
    "if tokenizer.pad_token:\n",
    "    pass\n",
    "elif tokenizer.unk_token:\n",
    "    tokenizer.pad_token_id = tokenizer.unk_token_id\n",
    "elif tokenizer.eos_token:\n",
    "    tokenizer.pad_token_id = tokenizer.eos_token_id"
   ]
  },
  {
   "cell_type": "code",
   "execution_count": 36,
   "id": "f42fd40c",
   "metadata": {},
   "outputs": [],
   "source": [
    "import torch"
   ]
  },
  {
   "cell_type": "code",
   "execution_count": 37,
   "id": "dc14227d",
   "metadata": {},
   "outputs": [],
   "source": [
    "device = torch.device(\"cuda\") if torch.cuda.is_available() else torch.device(\"cpu\")\n",
    "retrieval_embed_length = 0\n",
    "retriever,retriever_tokenizer = None,None"
   ]
  },
  {
   "cell_type": "code",
   "execution_count": 38,
   "id": "ec78ad20",
   "metadata": {},
   "outputs": [],
   "source": [
    "from src.model import (\n",
    "    XMistralForCausalLM,\n",
    "    XMixtralForCausalLM,\n",
    "    SFR,\n",
    ")"
   ]
  },
  {
   "cell_type": "code",
   "execution_count": 39,
   "id": "bf7c4e54",
   "metadata": {},
   "outputs": [
    {
     "name": "stdout",
     "output_type": "stream",
     "text": [
      "Salesforce/SFR-Embedding-Mistral\n"
     ]
    }
   ],
   "source": [
    "print(args.retriever_name_or_path)"
   ]
  },
  {
   "cell_type": "code",
   "execution_count": 40,
   "id": "a006a8aa",
   "metadata": {},
   "outputs": [
    {
     "data": {
      "application/vnd.jupyter.widget-view+json": {
       "model_id": "65dcb7d847b74a02a3df465f1825c225",
       "version_major": 2,
       "version_minor": 0
      },
      "text/plain": [
       "Loading checkpoint shards:   0%|          | 0/3 [00:00<?, ?it/s]"
      ]
     },
     "metadata": {},
     "output_type": "display_data"
    }
   ],
   "source": [
    "if args.retriever_name_or_path is not None:\n",
    "    \n",
    "    if args.retriever_name_or_path.lower() == 'salesforce/sfr-embedding-mistral':\n",
    "        retriever = SFR.from_pretrained(args.retriever_name_or_path,torch_dtype = torch.bfloat16)\n",
    "        retriever_tokenizer = AutoTokenizer.from_pretrained(args.retriever_name_or_path)\n",
    "    retrieval_embed_length = retriever.get_embed_length()\n",
    "    retriever_hidden_size = retriever.get_embed_dim()\n",
    "    retriever.eval()\n",
    "    retriever = retriever.to(device)"
   ]
  },
  {
   "cell_type": "code",
   "execution_count": 41,
   "id": "8abbf7b3",
   "metadata": {},
   "outputs": [],
   "source": [
    "from src.eval.run_eval import load_dataset"
   ]
  },
  {
   "cell_type": "code",
   "execution_count": 42,
   "id": "176dd7cf",
   "metadata": {},
   "outputs": [
    {
     "name": "stdout",
     "output_type": "stream",
     "text": [
      "/home/brimmann/works\n"
     ]
    },
    {
     "name": "stderr",
     "output_type": "stream",
     "text": [
      "/home/brimmann/works/xRAG/.venv/lib/python3.9/site-packages/IPython/core/magics/osm.py:417: UserWarning: using dhist requires you to install the `pickleshare` library.\n",
      "  self.shell.db['dhist'] = compress_dhist(dhist)[-100:]\n"
     ]
    }
   ],
   "source": [
    "%cd .."
   ]
  },
  {
   "cell_type": "code",
   "execution_count": 57,
   "id": "c5766fd6",
   "metadata": {},
   "outputs": [
    {
     "name": "stdout",
     "output_type": "stream",
     "text": [
      "/home/brimmann/works/xRAG\n"
     ]
    },
    {
     "name": "stderr",
     "output_type": "stream",
     "text": [
      "/home/brimmann/works/xRAG/.venv/lib/python3.9/site-packages/IPython/core/magics/osm.py:417: UserWarning: using dhist requires you to install the `pickleshare` library.\n",
      "  self.shell.db['dhist'] = compress_dhist(dhist)[-100:]\n"
     ]
    }
   ],
   "source": [
    "%cd xRAG/"
   ]
  },
  {
   "cell_type": "code",
   "execution_count": 58,
   "id": "b4cac3e9",
   "metadata": {},
   "outputs": [],
   "source": [
    "dev_data,test_data = load_dataset(\n",
    "    args.data,\n",
    "    args.use_rag,\n",
    "    args,\n",
    ")"
   ]
  },
  {
   "cell_type": "code",
   "execution_count": 61,
   "id": "5ef4014a",
   "metadata": {},
   "outputs": [
    {
     "data": {
      "text/plain": [
       "{'id': '0',\n",
       " 'question': 'Who was the man behind The Chipmunks?',\n",
       " 'answer': ['David Seville'],\n",
       " 'entity': 'David Seville',\n",
       " 'background': ['Alvin and the Chipmunks | \" Alvin and the Chipmunks, originally David Seville and the Chipmunks or simply The Chipmunks, are an American animated virtual band created by Ross Bagdasarian for a novelty record in 1958. The group consists of three singing animated anthropomorphic chipmunks named Alvin, Simon, and Theodore. They are managed by their human adoptive father, David \"\"Dave\"\" Seville. Bagdasarian provided the group\\'s voices sped up to create high-pitched squeaky voices (which wasn\\'t entirely new to him, having worked on \"\"Witch Doctor\"\" earned the record two Grammy Awards for engineering). \"\"The Chipmunk Song\"\" became a number-one single in the United States. After Bagdasarian died in 1972, the characters’ voices were provided by his son Ross Bagdasarian Jr. and the latter\\'s wife Janice Karman in the subsequent incarnations of \"']}"
      ]
     },
     "execution_count": 61,
     "metadata": {},
     "output_type": "execute_result"
    }
   ],
   "source": [
    "test_data[0]"
   ]
  },
  {
   "cell_type": "code",
   "execution_count": 65,
   "id": "41bb7be9",
   "metadata": {},
   "outputs": [],
   "source": [
    "if args.max_test_samples is not None:\n",
    "    test_data = test_data[:args.max_test_samples]"
   ]
  },
  {
   "cell_type": "code",
   "execution_count": null,
   "id": "696ca008",
   "metadata": {},
   "outputs": [
    {
     "data": {
      "text/plain": [
       "[{'id': '0',\n",
       "  'question': 'Who was the man behind The Chipmunks?',\n",
       "  'answer': ['David Seville'],\n",
       "  'entity': 'David Seville',\n",
       "  'background': ['Alvin and the Chipmunks | \" Alvin and the Chipmunks, originally David Seville and the Chipmunks or simply The Chipmunks, are an American animated virtual band created by Ross Bagdasarian for a novelty record in 1958. The group consists of three singing animated anthropomorphic chipmunks named Alvin, Simon, and Theodore. They are managed by their human adoptive father, David \"\"Dave\"\" Seville. Bagdasarian provided the group\\'s voices sped up to create high-pitched squeaky voices (which wasn\\'t entirely new to him, having worked on \"\"Witch Doctor\"\" earned the record two Grammy Awards for engineering). \"\"The Chipmunk Song\"\" became a number-one single in the United States. After Bagdasarian died in 1972, the characters’ voices were provided by his son Ross Bagdasarian Jr. and the latter\\'s wife Janice Karman in the subsequent incarnations of \"']},\n",
       " {'id': '1',\n",
       "  'question': 'What star sign is Jamie Lee Curtis?',\n",
       "  'answer': ['Scorpio', 'Skorpio', 'Scorpio (disambiguation)'],\n",
       "  'entity': 'Scorpio',\n",
       "  'background': [\"Jamie Lee Curtis |  Jamie Lee Curtis (born November 22, 1958) is an American actress and writer. She is the recipient of several accolades, including a British Academy Film Award, two Golden Globe Awards and a star on the Hollywood Walk of Fame in 1998. Curtis made her film acting debut as Laurie Strode in John Carpenter's horror film Halloween (1978), which established her as a scream queen, and she thereafter appeared in a string of horror films, including The Fog, Prom Night, Terror Train (all 1980) and Roadgames (1981). She reprised the role of Laurie in the sequels Halloween II (1981), Halloween H20: 20 Years Later (1998), Halloween: Resurrection (2002), Halloween (2018), and Halloween Kills (2021). Her filmography is largely characterized by independent film that have been box-office successes, with 8 of her lead-actress credits \"]}]"
      ]
     },
     "execution_count": 66,
     "metadata": {},
     "output_type": "execute_result"
    }
   ],
   "source": []
  },
  {
   "cell_type": "code",
   "execution_count": 67,
   "id": "916e719e",
   "metadata": {},
   "outputs": [],
   "source": [
    "from src.eval.run_eval import prepare_prompts"
   ]
  },
  {
   "cell_type": "code",
   "execution_count": 68,
   "id": "e749fbf5",
   "metadata": {},
   "outputs": [
    {
     "name": "stdout",
     "output_type": "stream",
     "text": [
      "**************************************** show one example ****************************************\n",
      "[INST] Refer to the background document and answer the questions:\n",
      "\n",
      "Background: <xRAG>\n",
      "\n",
      "Question: Who was the man behind The Chipmunks?? [/INST] The answer is:\n",
      "**************************************** show one example ****************************************\n"
     ]
    }
   ],
   "source": [
    "prompts,backgrounds = prepare_prompts(\n",
    "    dev_data = dev_data,\n",
    "    test_data = test_data,\n",
    "    task_type = args.task_type,\n",
    "    tokenizer = tokenizer,\n",
    "    n_shot = args.n_shot,\n",
    "    use_rag = args.use_rag,\n",
    "    retrieval_embed_length = retrieval_embed_length,\n",
    "    chat_format = args.chat_format, \n",
    ")"
   ]
  },
  {
   "cell_type": "code",
   "execution_count": 71,
   "id": "dd71a610",
   "metadata": {},
   "outputs": [
    {
     "data": {
      "text/plain": [
       "[['Alvin and the Chipmunks | \" Alvin and the Chipmunks, originally David Seville and the Chipmunks or simply The Chipmunks, are an American animated virtual band created by Ross Bagdasarian for a novelty record in 1958. The group consists of three singing animated anthropomorphic chipmunks named Alvin, Simon, and Theodore. They are managed by their human adoptive father, David \"\"Dave\"\" Seville. Bagdasarian provided the group\\'s voices sped up to create high-pitched squeaky voices (which wasn\\'t entirely new to him, having worked on \"\"Witch Doctor\"\" earned the record two Grammy Awards for engineering). \"\"The Chipmunk Song\"\" became a number-one single in the United States. After Bagdasarian died in 1972, the characters’ voices were provided by his son Ross Bagdasarian Jr. and the latter\\'s wife Janice Karman in the subsequent incarnations of \"'],\n",
       " [\"Jamie Lee Curtis |  Jamie Lee Curtis (born November 22, 1958) is an American actress and writer. She is the recipient of several accolades, including a British Academy Film Award, two Golden Globe Awards and a star on the Hollywood Walk of Fame in 1998. Curtis made her film acting debut as Laurie Strode in John Carpenter's horror film Halloween (1978), which established her as a scream queen, and she thereafter appeared in a string of horror films, including The Fog, Prom Night, Terror Train (all 1980) and Roadgames (1981). She reprised the role of Laurie in the sequels Halloween II (1981), Halloween H20: 20 Years Later (1998), Halloween: Resurrection (2002), Halloween (2018), and Halloween Kills (2021). Her filmography is largely characterized by independent film that have been box-office successes, with 8 of her lead-actress credits \"]]"
      ]
     },
     "execution_count": 71,
     "metadata": {},
     "output_type": "execute_result"
    }
   ],
   "source": [
    "backgrounds"
   ]
  },
  {
   "cell_type": "code",
   "execution_count": 72,
   "id": "f9b8e61e",
   "metadata": {},
   "outputs": [
    {
     "data": {
      "text/plain": [
       "['[INST] Refer to the background document and answer the questions:\\n\\nBackground: <xRAG>\\n\\nQuestion: Who was the man behind The Chipmunks?? [/INST] The answer is:',\n",
       " '[INST] Refer to the background document and answer the questions:\\n\\nBackground: <xRAG>\\n\\nQuestion: What star sign is Jamie Lee Curtis?? [/INST] The answer is:']"
      ]
     },
     "execution_count": 72,
     "metadata": {},
     "output_type": "execute_result"
    }
   ],
   "source": [
    "prompts"
   ]
  },
  {
   "cell_type": "code",
   "execution_count": 75,
   "id": "93c85eb8",
   "metadata": {},
   "outputs": [],
   "source": [
    "retrieval_embeds = None"
   ]
  },
  {
   "cell_type": "code",
   "execution_count": 77,
   "id": "437019ee",
   "metadata": {},
   "outputs": [],
   "source": [
    "from src.eval.run_eval import prepare_retrieval_embeds"
   ]
  },
  {
   "cell_type": "code",
   "execution_count": 78,
   "id": "46730e13",
   "metadata": {},
   "outputs": [
    {
     "name": "stdout",
     "output_type": "stream",
     "text": [
      "Preparing document embedding with Salesforce/SFR-Embedding-Mistral...\n"
     ]
    }
   ],
   "source": [
    "retrieval_embeds = None\n",
    "if retriever is not None:\n",
    "    # backgrounds List[List[String]]\n",
    "    num_samples = len(backgrounds)\n",
    "    original_orders = []\n",
    "    for idx,background in enumerate(backgrounds):\n",
    "        original_orders.extend(\n",
    "            [idx] * len(background)\n",
    "        )\n",
    "        \n",
    "    backgrounds = [x for y in backgrounds for x in y]\n",
    "    print(f\"Preparing document embedding with {args.retriever_name_or_path}...\")\n",
    "    _retrieval_embeds = prepare_retrieval_embeds(\n",
    "        backgrounds,\n",
    "        retriever,\n",
    "        retriever_tokenizer,\n",
    "    )\n",
    "\n",
    "    retrieval_embeds = [[] for _ in range(num_samples)]\n",
    "    assert len(_retrieval_embeds) == len(original_orders)\n",
    "    for id,embeds in zip(original_orders,_retrieval_embeds):\n",
    "        retrieval_embeds[id].append(embeds)\n",
    "\n",
    "    retriever = retriever.to(\"cpu\")"
   ]
  },
  {
   "cell_type": "code",
   "execution_count": 81,
   "id": "53289e41",
   "metadata": {},
   "outputs": [
    {
     "data": {
      "text/plain": [
       "2"
      ]
     },
     "execution_count": 81,
     "metadata": {},
     "output_type": "execute_result"
    }
   ],
   "source": [
    "len(retrieval_embeds)"
   ]
  },
  {
   "cell_type": "code",
   "execution_count": 82,
   "id": "3cedf470",
   "metadata": {},
   "outputs": [],
   "source": [
    "avg_prompt_length = tokenizer(prompts,return_length=True).length\n",
    "avg_prompt_length = sum(avg_prompt_length)/len(avg_prompt_length)"
   ]
  },
  {
   "cell_type": "code",
   "execution_count": 84,
   "id": "7eb58c7c",
   "metadata": {},
   "outputs": [],
   "source": [
    "from transformers import (\n",
    "    MistralForCausalLM,\n",
    "    AutoModelForCausalLM,\n",
    "    AutoTokenizer,\n",
    "    AutoConfig,\n",
    "    MixtralForCausalLM,\n",
    ")"
   ]
  },
  {
   "cell_type": "code",
   "execution_count": 86,
   "id": "234ac6f9",
   "metadata": {},
   "outputs": [
    {
     "name": "stderr",
     "output_type": "stream",
     "text": [
      "/home/brimmann/works/xRAG/.venv/lib/python3.9/site-packages/huggingface_hub/file_download.py:945: FutureWarning: `resume_download` is deprecated and will be removed in version 1.0.0. Downloads always resume when possible. If you want to force a new download, use `force_download=True`.\n",
      "  warnings.warn(\n"
     ]
    },
    {
     "data": {
      "application/vnd.jupyter.widget-view+json": {
       "model_id": "c79687a8da5147e2b235e154bec5a03a",
       "version_major": 2,
       "version_minor": 0
      },
      "text/plain": [
       "Loading checkpoint shards:   0%|          | 0/3 [00:00<?, ?it/s]"
      ]
     },
     "metadata": {},
     "output_type": "display_data"
    },
    {
     "name": "stderr",
     "output_type": "stream",
     "text": [
      "/home/brimmann/works/xRAG/.venv/lib/python3.9/site-packages/torch/_utils.py:831: UserWarning: TypedStorage is deprecated. It will be removed in the future and UntypedStorage will be the only storage class. This should only matter to you if you are using storages directly.  To access UntypedStorage directly, use tensor.untyped_storage() instead of tensor.storage()\n",
      "  return self.fget.__get__(instance, owner)()\n"
     ]
    },
    {
     "data": {
      "application/vnd.jupyter.widget-view+json": {
       "model_id": "c64ca036f85f41b3965c773d98ce8f17",
       "version_major": 2,
       "version_minor": 0
      },
      "text/plain": [
       "generation_config.json:   0%|          | 0.00/111 [00:00<?, ?B/s]"
      ]
     },
     "metadata": {},
     "output_type": "display_data"
    },
    {
     "name": "stderr",
     "output_type": "stream",
     "text": [
      "WARNING:root:Some parameters are on the meta device device because they were offloaded to the disk and cpu.\n"
     ]
    }
   ],
   "source": [
    " ## load llm\n",
    "config = AutoConfig.from_pretrained(args.model_name_or_path)\n",
    "MODEL_CLASS = eval(config.architectures[0])\n",
    "model = MODEL_CLASS.from_pretrained(\n",
    "    args.model_name_or_path,\n",
    "    torch_dtype = torch.bfloat16,\n",
    "    low_cpu_mem_usage = True,\n",
    "    device_map='auto',\n",
    "    offload_folder=\"./offload\"\n",
    ")"
   ]
  },
  {
   "cell_type": "code",
   "execution_count": 87,
   "id": "a3ac0888",
   "metadata": {},
   "outputs": [
    {
     "data": {
      "text/plain": [
       "XMistralForCausalLM(\n",
       "  (model): MistralModel(\n",
       "    (embed_tokens): Embedding(32002, 4096)\n",
       "    (layers): ModuleList(\n",
       "      (0-31): 32 x MistralDecoderLayer(\n",
       "        (self_attn): MistralSdpaAttention(\n",
       "          (q_proj): Linear(in_features=4096, out_features=4096, bias=False)\n",
       "          (k_proj): Linear(in_features=4096, out_features=1024, bias=False)\n",
       "          (v_proj): Linear(in_features=4096, out_features=1024, bias=False)\n",
       "          (o_proj): Linear(in_features=4096, out_features=4096, bias=False)\n",
       "          (rotary_emb): MistralRotaryEmbedding()\n",
       "        )\n",
       "        (mlp): MistralMLP(\n",
       "          (gate_proj): Linear(in_features=4096, out_features=14336, bias=False)\n",
       "          (up_proj): Linear(in_features=4096, out_features=14336, bias=False)\n",
       "          (down_proj): Linear(in_features=14336, out_features=4096, bias=False)\n",
       "          (act_fn): SiLU()\n",
       "        )\n",
       "        (input_layernorm): MistralRMSNorm()\n",
       "        (post_attention_layernorm): MistralRMSNorm()\n",
       "      )\n",
       "    )\n",
       "    (norm): MistralRMSNorm()\n",
       "  )\n",
       "  (lm_head): Linear(in_features=4096, out_features=32002, bias=False)\n",
       "  (projector): Projector(\n",
       "    (projector): Sequential(\n",
       "      (0): Linear(in_features=4096, out_features=4096, bias=True)\n",
       "      (1): GELU(approximate='none')\n",
       "      (2): Linear(in_features=4096, out_features=4096, bias=True)\n",
       "    )\n",
       "  )\n",
       ")"
      ]
     },
     "execution_count": 87,
     "metadata": {},
     "output_type": "execute_result"
    }
   ],
   "source": [
    "model.eval()"
   ]
  },
  {
   "cell_type": "code",
   "execution_count": 90,
   "id": "c3d41e41",
   "metadata": {},
   "outputs": [],
   "source": [
    "from src.language_modeling.utils import (\n",
    "    XRAG_TOKEN,\n",
    "    get_retrieval_embeds,\n",
    ")"
   ]
  },
  {
   "cell_type": "code",
   "execution_count": null,
   "id": "d6c3cc6c",
   "metadata": {},
   "outputs": [],
   "source": [
    "if retriever is not None:\n",
    "    assert XRAG_TOKEN in tokenizer.get_vocab() \n",
    "    model.set_xrag_token_id(tokenizer.convert_tokens_to_ids(XRAG_TOKEN))"
   ]
  },
  {
   "cell_type": "code",
   "execution_count": 92,
   "id": "1d0f0436",
   "metadata": {},
   "outputs": [],
   "source": [
    "from src.eval.run_eval import llm_for_open_generation"
   ]
  },
  {
   "cell_type": "code",
   "execution_count": 98,
   "id": "2cc27581",
   "metadata": {},
   "outputs": [
    {
     "name": "stderr",
     "output_type": "stream",
     "text": [
      "  0%|                                 | 0/2 [00:00<?, ?it/s]"
     ]
    },
    {
     "ename": "NameError",
     "evalue": "name 'tokenizer' is not defined",
     "output_type": "error",
     "traceback": [
      "\u001b[0;31m---------------------------------------------------------------------------\u001b[0m",
      "\u001b[0;31mNameError\u001b[0m                                 Traceback (most recent call last)",
      "Cell \u001b[0;32mIn[98], line 2\u001b[0m\n\u001b[1;32m      1\u001b[0m \u001b[38;5;28;01mif\u001b[39;00m args\u001b[38;5;241m.\u001b[39mtask_type \u001b[38;5;129;01min\u001b[39;00m [\u001b[38;5;124m'\u001b[39m\u001b[38;5;124mopen_qa\u001b[39m\u001b[38;5;124m'\u001b[39m,\u001b[38;5;124m'\u001b[39m\u001b[38;5;124mfact_checking\u001b[39m\u001b[38;5;124m'\u001b[39m]:\n\u001b[0;32m----> 2\u001b[0m     generated_results \u001b[38;5;241m=\u001b[39m \u001b[43mllm_for_open_generation\u001b[49m\u001b[43m(\u001b[49m\n\u001b[1;32m      3\u001b[0m \u001b[43m        \u001b[49m\u001b[43mllm\u001b[49m\u001b[43m \u001b[49m\u001b[38;5;241;43m=\u001b[39;49m\u001b[43m \u001b[49m\u001b[43mmodel\u001b[49m\u001b[43m,\u001b[49m\n\u001b[1;32m      4\u001b[0m \u001b[43m        \u001b[49m\u001b[43mllm_tokenizer\u001b[49m\u001b[43m \u001b[49m\u001b[38;5;241;43m=\u001b[39;49m\u001b[43m \u001b[49m\u001b[43mtokenizer\u001b[49m\u001b[43m,\u001b[49m\n\u001b[1;32m      5\u001b[0m \u001b[43m        \u001b[49m\u001b[43mprompts\u001b[49m\u001b[43m \u001b[49m\u001b[38;5;241;43m=\u001b[39;49m\u001b[43m \u001b[49m\u001b[43mprompts\u001b[49m\u001b[43m,\u001b[49m\n\u001b[1;32m      6\u001b[0m \u001b[43m        \u001b[49m\u001b[43mretrieval_embeds\u001b[49m\u001b[43m \u001b[49m\u001b[38;5;241;43m=\u001b[39;49m\u001b[43m \u001b[49m\u001b[43mretrieval_embeds\u001b[49m\u001b[43m,\u001b[49m\n\u001b[1;32m      7\u001b[0m \u001b[43m        \u001b[49m\u001b[43mbatch_size\u001b[49m\u001b[43m \u001b[49m\u001b[38;5;241;43m=\u001b[39;49m\u001b[43m \u001b[49m\u001b[43margs\u001b[49m\u001b[38;5;241;43m.\u001b[39;49m\u001b[43meval_batch_size\u001b[49m\u001b[43m,\u001b[49m\n\u001b[1;32m      8\u001b[0m \u001b[43m        \u001b[49m\u001b[43menable_progress_bar\u001b[49m\u001b[38;5;241;43m=\u001b[39;49m\u001b[43m \u001b[49m\u001b[43margs\u001b[49m\u001b[38;5;241;43m.\u001b[39;49m\u001b[43menable_progress_bar\u001b[49m\u001b[43m,\u001b[49m\n\u001b[1;32m      9\u001b[0m \u001b[43m    \u001b[49m\u001b[43m)\u001b[49m\n",
      "File \u001b[0;32m~/works/xRAG/.venv/lib/python3.9/site-packages/torch/utils/_contextlib.py:115\u001b[0m, in \u001b[0;36mcontext_decorator.<locals>.decorate_context\u001b[0;34m(*args, **kwargs)\u001b[0m\n\u001b[1;32m    112\u001b[0m \u001b[38;5;129m@functools\u001b[39m\u001b[38;5;241m.\u001b[39mwraps(func)\n\u001b[1;32m    113\u001b[0m \u001b[38;5;28;01mdef\u001b[39;00m\u001b[38;5;250m \u001b[39m\u001b[38;5;21mdecorate_context\u001b[39m(\u001b[38;5;241m*\u001b[39margs, \u001b[38;5;241m*\u001b[39m\u001b[38;5;241m*\u001b[39mkwargs):\n\u001b[1;32m    114\u001b[0m     \u001b[38;5;28;01mwith\u001b[39;00m ctx_factory():\n\u001b[0;32m--> 115\u001b[0m         \u001b[38;5;28;01mreturn\u001b[39;00m \u001b[43mfunc\u001b[49m\u001b[43m(\u001b[49m\u001b[38;5;241;43m*\u001b[39;49m\u001b[43margs\u001b[49m\u001b[43m,\u001b[49m\u001b[43m \u001b[49m\u001b[38;5;241;43m*\u001b[39;49m\u001b[38;5;241;43m*\u001b[39;49m\u001b[43mkwargs\u001b[49m\u001b[43m)\u001b[49m\n",
      "File \u001b[0;32m~/works/xRAG/src/eval/run_eval.py:228\u001b[0m, in \u001b[0;36mllm_for_open_generation\u001b[0;34m(llm, llm_tokenizer, prompts, retrieval_embeds, batch_size, enable_progress_bar)\u001b[0m\n\u001b[1;32m    219\u001b[0m     stopping_criteria \u001b[38;5;241m=\u001b[39m stop_sequences_criteria(llm_tokenizer, \u001b[38;5;241m0\u001b[39m, input_ids\u001b[38;5;241m.\u001b[39mshape[\u001b[38;5;241m0\u001b[39m])\n\u001b[1;32m    221\u001b[0m \u001b[38;5;66;03m## actual computation\u001b[39;00m\n\u001b[1;32m    222\u001b[0m generated_output \u001b[38;5;241m=\u001b[39m llm\u001b[38;5;241m.\u001b[39mgenerate(\n\u001b[1;32m    223\u001b[0m     input_ids \u001b[38;5;241m=\u001b[39m input_ids,\n\u001b[1;32m    224\u001b[0m     attention_mask \u001b[38;5;241m=\u001b[39m attention_mask,\n\u001b[1;32m    225\u001b[0m     stopping_criteria\u001b[38;5;241m=\u001b[39mstopping_criteria,\n\u001b[1;32m    226\u001b[0m     do_sample\u001b[38;5;241m=\u001b[39m\u001b[38;5;28;01mFalse\u001b[39;00m,\n\u001b[1;32m    227\u001b[0m     max_new_tokens\u001b[38;5;241m=\u001b[39m\u001b[38;5;241m100\u001b[39m,\n\u001b[0;32m--> 228\u001b[0m     pad_token_id\u001b[38;5;241m=\u001b[39m\u001b[43mtokenizer\u001b[49m\u001b[38;5;241m.\u001b[39mpad_token_id,\n\u001b[1;32m    229\u001b[0m     use_cache\u001b[38;5;241m=\u001b[39m\u001b[38;5;28;01mTrue\u001b[39;00m,\n\u001b[1;32m    230\u001b[0m     \u001b[38;5;241m*\u001b[39m\u001b[38;5;241m*\u001b[39mretrieval_kwargs,\n\u001b[1;32m    231\u001b[0m )\n\u001b[1;32m    232\u001b[0m \u001b[38;5;66;03m## because HF generate with inputs_embeds would not return prompt\u001b[39;00m\n\u001b[1;32m    233\u001b[0m input_length \u001b[38;5;241m=\u001b[39m \u001b[38;5;241m0\u001b[39m \u001b[38;5;28;01mif\u001b[39;00m retrieval_kwargs \u001b[38;5;28;01melse\u001b[39;00m input_ids\u001b[38;5;241m.\u001b[39mshape[\u001b[38;5;241m1\u001b[39m]\n",
      "\u001b[0;31mNameError\u001b[0m: name 'tokenizer' is not defined"
     ]
    }
   ],
   "source": [
    "if args.task_type in ['open_qa','fact_checking']:\n",
    "    generated_results = llm_for_open_generation(\n",
    "        llm = model,\n",
    "        llm_tokenizer = tokenizer,\n",
    "        prompts = prompts,\n",
    "        retrieval_embeds = retrieval_embeds,\n",
    "        batch_size = args.eval_batch_size,\n",
    "        enable_progress_bar= args.enable_progress_bar,\n",
    "    )"
   ]
  }
 ],
 "metadata": {
  "kernelspec": {
   "display_name": ".venv",
   "language": "python",
   "name": "python3"
  },
  "language_info": {
   "codemirror_mode": {
    "name": "ipython",
    "version": 3
   },
   "file_extension": ".py",
   "mimetype": "text/x-python",
   "name": "python",
   "nbconvert_exporter": "python",
   "pygments_lexer": "ipython3",
   "version": "3.9.23"
  }
 },
 "nbformat": 4,
 "nbformat_minor": 5
}
